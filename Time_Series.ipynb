{
 "cells": [
  {
   "cell_type": "code",
   "execution_count": 1,
   "metadata": {},
   "outputs": [],
   "source": [
    "import matplotlib.pyplot as plt\n",
    "from random import randint\n",
    "import pandas as pd\n",
    "import numpy as np\n",
    "%matplotlib inline"
   ]
  },
  {
   "cell_type": "markdown",
   "metadata": {},
   "source": [
    "Frequency Calculation\n",
    "\n",
    "The following code takes as input the attribute list of all tables, along with all the transactions that have been classified as \"not malicious\". Its output is a table, with the first column containing time of execution of each transaction relative to the first transaction, and the remaining columns contain the frequencies of each attribute accessed corresponding to the transaction time."
   ]
  },
  {
   "cell_type": "code",
   "execution_count": 28,
   "metadata": {},
   "outputs": [],
   "source": [
    "def modify(transactions): #Returns the attributes accessed per transaction; removes read and write symbols\n",
    "    \n",
    "    modified = [] #New list of lists containing only attribute names in each transaction\n",
    "    for tid in transactions:\n",
    "        transaction = transactions[tid]\n",
    "        current_modification = [] #List containing attributes for current transaction\n",
    "        for operation in transaction:\n",
    "            attribute = operation[2:-1] #Strip off R/W along with brackets\n",
    "            current_modification.append(attribute)\n",
    "        modified.append(current_modification)\n",
    "    return modified"
   ]
  },
  {
   "cell_type": "code",
   "execution_count": 8,
   "metadata": {},
   "outputs": [],
   "source": [
    "def frequencyDB(transactions_normal):\n",
    "    \n",
    "    time = [] #Times of all transactions\n",
    "    time_transaction = 0 #Time of current transaction; initialised to 0 for 1st transaction\n",
    "    attribute_frequencies = {} #Frequency of each attribute\n",
    "    \n",
    "    modified_transactions = modify(transactions_normal) #Returns the attributes accessed per transaction, removing\n",
    "                                                        #read and write symbols\n",
    "    \n",
    "    i = 0 #Represents the transaction number; used to modify lists in the dictionary\n",
    "    for transaction in modified_transactions:\n",
    "        time.append(time_transaction)\n",
    "        for att in transaction:\n",
    "            if att not in attribute_frequencies:\n",
    "                attribute_frequencies[att] = {}\n",
    "            if i not in attribute_frequencies[att]:\n",
    "                attribute_frequencies[att][i] = 0\n",
    "            attribute_frequencies[att][i] = attribute_frequencies[att][i] + 1\n",
    "        \n",
    "        increment = randint(1, 10) #Generates a random time gap for the next transaction (1-10 minutes)\n",
    "        time_transaction = time_transaction + increment\n",
    "        i = i + 1 #Update the transaction number\n",
    "        \n",
    "    frequencies = pd.DataFrame(data=attribute_frequencies, index=time) #Return a table in the form of DataFrame\n",
    "    return frequencies"
   ]
  },
  {
   "cell_type": "markdown",
   "metadata": {},
   "source": [
    "Time Series Graph\n",
    "\n",
    "The following code will take as input the frequencies database, and plot a line graph of frequency vs transaction time for each attribute in the database. It will also save the plot as an image file with the name \"Time Graph.png\""
   ]
  },
  {
   "cell_type": "code",
   "execution_count": 18,
   "metadata": {},
   "outputs": [],
   "source": [
    "def plotGraph(frequencies):\n",
    "    \n",
    "    attributes = frequencies.columns.values\n",
    "    for at in attributes:\n",
    "        plt.plot(frequencies[at]) #Plots a line graph on the same graph with time on x-axis and frequencies on y-axis\n",
    "    plt.xlabel('Time (in minutes)')\n",
    "    plt.ylabel('Frequencies')\n",
    "    plt.legend(attributes, loc=0) #loc=0 will automatically find the best position to place the legend on the plot\n",
    "    plt.title('Time Series Analysis of Attributes')\n",
    "    plt.savefig('Time Graph.png', bbox_inches='tight')\n",
    "    plt.show()"
   ]
  },
  {
   "cell_type": "markdown",
   "metadata": {},
   "source": [
    "Anomaly Detection Module based on Frequency\n",
    "\n",
    "The following code takes as input the frequencies database, the test query, and a relaxation factor\n",
    "(default value=1), and returns whether the query is malicious (1) or not (0). It does so by finding the most similar normal query to the test query within the relaxation factor access bounds. If a similar query (s) is found at the end of the process, the query is allowed to execute, otherwise stopped."
   ]
  },
  {
   "cell_type": "code",
   "execution_count": 5,
   "metadata": {},
   "outputs": [],
   "source": [
    "def isMalicious(frequencies, test_transaction, relax_factor=1):\n",
    "    \n",
    "    for i in range(len(test_transaction)): #Only the attributes accessed remain\n",
    "        test_transaction[i] = test_transaction[i][2:-1]\n",
    "    \n",
    "    test = np.unique(test_transaction, return_counts=True) #Return frequencies of accessed items in the test query\n",
    "    similar_transactions = frequencies\n",
    "                        #This database will contain similar transactions, which will be updated with each iteration\n",
    "    for i in range(len(test[0])):\n",
    "        current_attribute = test[0][i] #The test attribute to be checked\n",
    "        test_frequency = test[1][i] #The corresponding frequency of the test attribute\n",
    "        similar_transactions = similar_transactions[frequencies.current_attribute < test_frequency-relax_factor]\n",
    "                            #Update the db to contain only those rows which satisfy the relaxation bounds for the\n",
    "                            #current attribute\n",
    "        if len(similar_queries) == 0:\n",
    "            return 1 \n",
    "                    #No similar query is found even after relaxation, therefore the query is flagged as malicious\n",
    "    \n",
    "    return 0 #Similar queries are present within relaxation bounds, therefore allow the transaction"
   ]
  },
  {
   "cell_type": "code",
   "execution_count": 15,
   "metadata": {},
   "outputs": [],
   "source": [
    "transactions = {'TID_1': ['W(T5_1)', 'W(T5_4)', 'R(T5_3)', 'W(T5_2)', 'R(T5_8)', 'R(T1_3)', 'R(T1_7)'], 'TID_2': ['W(T4_3)', 'W(T4_7)', 'W(T4_5)', 'R(T4_1)', 'W(T4_4)', 'R(T3_1)', 'W(T3_4)', 'W(T3_2)', 'W(T5_1)', 'W(T5_2)', 'W(T5_8)', 'W(T5_4)', 'R(T5_7)', 'R(T5_5)', 'R(T1_5)', 'R(T1_3)', 'W(T1_7)', 'W(T1_6)', 'R(T2_2)', 'R(T2_0)', 'R(T2_1)'], 'TID_3': ['W(T2_3)', 'R(T2_0)', 'R(T3_4)', 'W(T3_0)', 'R(T3_5)', 'W(T3_3)', 'R(T3_2)', 'R(T3_1)', 'R(T1_3)', 'R(T1_6)', 'W(T1_5)', 'R(T1_4)', 'R(T1_2)', 'R(T1_7)', 'R(T1_1)', 'W(T1_0)', 'W(T5_3)'], 'TID_4': ['W(T2_2)', 'W(T2_3)', 'W(T5_7)', 'W(T5_8)', 'R(T4_3)', 'W(T4_0)', 'W(T4_4)', 'R(T4_1)', 'R(T4_2)', 'W(T3_0)', 'R(T1_4)'], 'TID_5': ['R(T3_4)', 'R(T3_3)', 'R(T3_5)', 'W(T3_2)', 'R(T3_1)', 'R(T5_5)', 'R(T2_3)', 'R(T2_0)']}"
   ]
  },
  {
   "cell_type": "code",
   "execution_count": 29,
   "metadata": {},
   "outputs": [],
   "source": [
    "freq = frequencyDB(transactions)"
   ]
  },
  {
   "cell_type": "code",
   "execution_count": 32,
   "metadata": {},
   "outputs": [
    {
     "name": "stdout",
     "output_type": "stream",
     "text": [
      "    T1_0  T1_1  T1_2  T1_3  T1_4  T1_5  T1_6  T1_7  T2_0  T2_1  ...   T4_4  \\\n",
      "0    NaN   NaN   NaN   NaN   NaN   NaN   NaN   NaN   1.0   NaN  ...    NaN   \n",
      "4    NaN   NaN   NaN   1.0   NaN   NaN   NaN   1.0   NaN   NaN  ...    NaN   \n",
      "5    NaN   NaN   NaN   NaN   NaN   NaN   NaN   NaN   NaN   NaN  ...    NaN   \n",
      "10   NaN   NaN   NaN   NaN   NaN   NaN   NaN   NaN   NaN   NaN  ...    NaN   \n",
      "20   NaN   NaN   NaN   NaN   NaN   NaN   NaN   NaN   NaN   NaN  ...    NaN   \n",
      "\n",
      "    T4_5  T4_7  T5_1  T5_2  T5_3  T5_4  T5_5  T5_7  T5_8  \n",
      "0    NaN   NaN   NaN   NaN   NaN   NaN   1.0   NaN   NaN  \n",
      "4    NaN   NaN   1.0   1.0   1.0   1.0   NaN   NaN   1.0  \n",
      "5    NaN   NaN   NaN   NaN   NaN   NaN   NaN   NaN   NaN  \n",
      "10   NaN   NaN   NaN   NaN   NaN   NaN   NaN   NaN   NaN  \n",
      "20   NaN   NaN   NaN   NaN   NaN   NaN   NaN   NaN   NaN  \n",
      "\n",
      "[5 rows x 32 columns]\n"
     ]
    }
   ],
   "source": [
    "print(freq)"
   ]
  },
  {
   "cell_type": "code",
   "execution_count": 30,
   "metadata": {},
   "outputs": [
    {
     "data": {
      "image/png": "[encoded data removed]",
      "text/plain": [
       "<matplotlib.figure.Figure at 0x109488350>"
      ]
     },
     "metadata": {},
     "output_type": "display_data"
    }
   ],
   "source": [
    "plotGraph(freq)"
   ]
  },
  {
   "cell_type": "code",
   "execution_count": 6,
   "metadata": {},
   "outputs": [],
   "source": [
    "#Comment out the following code to use the above module\n",
    "\n",
    "#frequencies = frequenciesDB(attr_list, transactions)\n",
    "#plotGraph(frequencies)\n",
    "\n",
    "#relax_factor = ? (Use whatever you find best)\n",
    "#for test in test_queries:\n",
    " #   if isMalicious(frequencies, test, relax_factor) == 0:\n",
    "  #      print('Not malicious')\n",
    "   # else:\n",
    "    #    print('Malicious')"
   ]
  },
  {
   "cell_type": "code",
   "execution_count": null,
   "metadata": {},
   "outputs": [],
   "source": []
  }
 ],
 "metadata": {
  "kernelspec": {
   "display_name": "Python 2",
   "language": "python",
   "name": "python2"
  },
  "language_info": {
   "codemirror_mode": {
    "name": "ipython",
    "version": 2
   },
   "file_extension": ".py",
   "mimetype": "text/x-python",
   "name": "python",
   "nbconvert_exporter": "python",
   "pygments_lexer": "ipython2",
   "version": "2.7.14"
  }
 },
 "nbformat": 4,
 "nbformat_minor": 2
}
