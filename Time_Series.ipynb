{
 "cells": [
  {
   "cell_type": "code",
   "execution_count": 1,
   "metadata": {},
   "outputs": [],
   "source": [
    "import matplotlib.pyplot as plt\n",
    "from random import randint\n",
    "import pandas as pd\n",
    "import numpy as np\n",
    "%matplotlib inline\n",
    "import seaborn as sns"
   ]
  },
  {
   "cell_type": "markdown",
   "metadata": {},
   "source": [
    "Frequency Calculation\n",
    "\n",
    "The following code takes as input the attribute list of all tables, along with all the transactions that have been classified as \"not malicious\". Its output is a table, with the first column containing time of execution of each transaction relative to the first transaction, and the remaining columns contain the frequencies of each attribute accessed corresponding to the transaction time."
   ]
  },
  {
   "cell_type": "code",
   "execution_count": 2,
   "metadata": {},
   "outputs": [],
   "source": [
    "def modify(transactions): #Returns the attributes accessed per transaction; removes read and write symbols\n",
    "    \n",
    "    modified = [] #New list of lists containing only attribute names in each transaction\n",
    "    for tid in transactions:\n",
    "        transaction = transactions[tid]\n",
    "        current_modification = [] #List containing attributes for current transaction\n",
    "        for operation in transaction:\n",
    "            attribute = operation[2:-1] #Strip off R/W along with brackets\n",
    "            current_modification.append(attribute)\n",
    "        modified.append(current_modification)\n",
    "    return modified"
   ]
  },
  {
   "cell_type": "code",
   "execution_count": 3,
   "metadata": {},
   "outputs": [],
   "source": [
    "def frequencyDB(attributes, transactions_normal):\n",
    "    \n",
    "    time = [] #Times of all transactions\n",
    "    time_transaction = 0 #Time of current transaction; initialised to 0 for 1st transaction\n",
    "    attribute_frequencies = {} #Frequency of each attribute\n",
    "    \n",
    "    for at in attributes:\n",
    "        attribute_frequencies[at] = [0 for i in range(len(transactions_normal))]\n",
    "    \n",
    "    modified_transactions = modify(transactions_normal) #Returns the attributes accessed per transaction, removing\n",
    "                                                        #read and write symbols\n",
    "    \n",
    "    i = 0 #Represents the transaction number; used to modify lists in the dictionary\n",
    "    for transaction in modified_transactions:\n",
    "        time.append(time_transaction)\n",
    "        for att in transaction:\n",
    "            attribute_frequencies[att][i] = attribute_frequencies[att][i] + 1\n",
    "        \n",
    "        increment = randint(1, 10) #Generates a random time gap for the next transaction (1-10 minutes)\n",
    "        time_transaction = time_transaction + increment\n",
    "        i = i + 1 #Update the transaction number\n",
    "        \n",
    "    frequencies = pd.DataFrame(data=attribute_frequencies, index=time) #Return a table in the form of DataFrame\n",
    "    return frequencies"
   ]
  },
  {
   "cell_type": "code",
   "execution_count": 4,
   "metadata": {},
   "outputs": [],
   "source": [
    "#Test db taken\n",
    "attr_list = ['T1_1', 'T1_2', 'T1_3', 'T1_4',\n",
    "             'T2_1', 'T2_2', 'T2_3', 'T2_4', 'T2_5',\n",
    "             'T3_1', 'T3_2', 'T3_3', 'T3_4']\n",
    "transactions_normal = {'TID_1':['R(T1_2)', 'R(T2_3)', 'W(T1_2)', 'W(T1_2)'],\n",
    "                      'TID_2':['W(T3_2)', 'R(T2_1)', 'R(T2_1)', 'R(T3_2)', 'W(T1_1)', 'R(T2_5)']}"
   ]
  },
  {
   "cell_type": "code",
   "execution_count": 5,
   "metadata": {},
   "outputs": [
    {
     "data": {
      "text/html": [
       "<div>\n",
       "<style scoped>\n",
       "    .dataframe tbody tr th:only-of-type {\n",
       "        vertical-align: middle;\n",
       "    }\n",
       "\n",
       "    .dataframe tbody tr th {\n",
       "        vertical-align: top;\n",
       "    }\n",
       "\n",
       "    .dataframe thead th {\n",
       "        text-align: right;\n",
       "    }\n",
       "</style>\n",
       "<table border=\"1\" class=\"dataframe\">\n",
       "  <thead>\n",
       "    <tr style=\"text-align: right;\">\n",
       "      <th></th>\n",
       "      <th>T1_1</th>\n",
       "      <th>T1_2</th>\n",
       "      <th>T1_3</th>\n",
       "      <th>T1_4</th>\n",
       "      <th>T2_1</th>\n",
       "      <th>T2_2</th>\n",
       "      <th>T2_3</th>\n",
       "      <th>T2_4</th>\n",
       "      <th>T2_5</th>\n",
       "      <th>T3_1</th>\n",
       "      <th>T3_2</th>\n",
       "      <th>T3_3</th>\n",
       "      <th>T3_4</th>\n",
       "    </tr>\n",
       "  </thead>\n",
       "  <tbody>\n",
       "    <tr>\n",
       "      <th>0</th>\n",
       "      <td>1</td>\n",
       "      <td>0</td>\n",
       "      <td>0</td>\n",
       "      <td>0</td>\n",
       "      <td>2</td>\n",
       "      <td>0</td>\n",
       "      <td>0</td>\n",
       "      <td>0</td>\n",
       "      <td>1</td>\n",
       "      <td>0</td>\n",
       "      <td>2</td>\n",
       "      <td>0</td>\n",
       "      <td>0</td>\n",
       "    </tr>\n",
       "    <tr>\n",
       "      <th>7</th>\n",
       "      <td>0</td>\n",
       "      <td>3</td>\n",
       "      <td>0</td>\n",
       "      <td>0</td>\n",
       "      <td>0</td>\n",
       "      <td>0</td>\n",
       "      <td>1</td>\n",
       "      <td>0</td>\n",
       "      <td>0</td>\n",
       "      <td>0</td>\n",
       "      <td>0</td>\n",
       "      <td>0</td>\n",
       "      <td>0</td>\n",
       "    </tr>\n",
       "  </tbody>\n",
       "</table>\n",
       "</div>"
      ],
      "text/plain": [
       "   T1_1  T1_2  T1_3  T1_4  T2_1  T2_2  T2_3  T2_4  T2_5  T3_1  T3_2  T3_3  \\\n",
       "0     1     0     0     0     2     0     0     0     1     0     2     0   \n",
       "7     0     3     0     0     0     0     1     0     0     0     0     0   \n",
       "\n",
       "   T3_4  \n",
       "0     0  \n",
       "7     0  "
      ]
     },
     "execution_count": 5,
     "metadata": {},
     "output_type": "execute_result"
    }
   ],
   "source": [
    "frequencies = frequencyDB(attr_list, transactions_normal)\n",
    "frequencies"
   ]
  },
  {
   "cell_type": "markdown",
   "metadata": {},
   "source": [
    "Time Series Graph\n",
    "\n",
    "The following code will take as input the frequencies database, and plot a line graph of frequency vs transaction time for each attribute in the database. It will also save the plot as an image file with the name \"Time Graph.png\""
   ]
  },
  {
   "cell_type": "code",
   "execution_count": 6,
   "metadata": {},
   "outputs": [],
   "source": [
    "def plotGraph(frequencies):\n",
    "    \n",
    "    fig = plt.figure()\n",
    "    ax = fig.add_subplot(111) #Change the value to 121 when inserting legend (side by side)\n",
    "    #ax_leg = fig.add_subplot(122)\n",
    "    plt.tight_layout() #Doesn't let the 2 plots overlap\n",
    "    attributes = frequencies.columns.values\n",
    "    for at in attributes:\n",
    "        ax.plot(frequencies[at]) #Plots a line graph on the same graph with time on x-axis and frequencies on y-axis\n",
    "    plt.xlabel('Time (in minutes)')\n",
    "    plt.ylabel('Frequencies')\n",
    "    \n",
    "    #ax_leg.legend(attributes, loc='center', ncol = int(frequencies.index[-1]/2)) #Yaha problem hai merko. Puri line hi change karni padegi\n",
    "    plt.title('Time Series Analysis of Attributes')\n",
    "    plt.savefig('Time Graph.png')\n",
    "    plt.show()"
   ]
  },
  {
   "cell_type": "code",
   "execution_count": 7,
   "metadata": {},
   "outputs": [
    {
     "data": {
      "image/png": "[encoded data removed]",
      "text/plain": [
       "<matplotlib.figure.Figure at 0x1162a7790>"
      ]
     },
     "metadata": {},
     "output_type": "display_data"
    }
   ],
   "source": [
    "plotGraph(frequencies)"
   ]
  },
  {
   "cell_type": "markdown",
   "metadata": {},
   "source": [
    "Anomaly Detection Module based on Frequency\n",
    "\n",
    "The following code takes as input the frequencies database, the test query, and a relaxation factor\n",
    "(default value=1), and returns whether the query is malicious (1) or not (0). It does so by finding the most similar normal query to the test query within the relaxation factor access bounds. If a similar query (s) is found at the end of the process, the query is allowed to execute, otherwise stopped."
   ]
  },
  {
   "cell_type": "code",
   "execution_count": 5,
   "metadata": {},
   "outputs": [],
   "source": [
    "def isMalicious(frequencies, test_transaction, relax_factor=1):\n",
    "    \n",
    "    for i in range(len(test_transaction)): #Only the attributes accessed remain\n",
    "        test_transaction[i] = test_transaction[i][2:-1]\n",
    "    \n",
    "    test = np.unique(test_transaction, return_counts=True) #Return frequencies of accessed items in the test query\n",
    "    similar_transactions = frequencies\n",
    "                        #This database will contain similar transactions, which will be updated with each iteration\n",
    "    for i in range(len(test[0])):\n",
    "        current_attribute = test[0][i] #The test attribute to be checked\n",
    "        test_frequency = test[1][i] #The corresponding frequency of the test attribute\n",
    "        similar_transactions = similar_transactions[frequencies.current_attribute < test_frequency-relax_factor]\n",
    "                            #Update the db to contain only those rows which satisfy the relaxation bounds for the\n",
    "                            #current attribute\n",
    "        if len(similar_queries) == 0:\n",
    "            return 1 \n",
    "                    #No similar query is found even after relaxation, therefore the query is flagged as malicious\n",
    "    \n",
    "    return 0 #Similar queries are present within relaxation bounds, therefore allow the transaction"
   ]
  }
 ],
 "metadata": {
  "kernelspec": {
   "display_name": "Python 2",
   "language": "python",
   "name": "python2"
  },
  "language_info": {
   "codemirror_mode": {
    "name": "ipython",
    "version": 2
   },
   "file_extension": ".py",
   "mimetype": "text/x-python",
   "name": "python",
   "nbconvert_exporter": "python",
   "pygments_lexer": "ipython2",
   "version": "2.7.14"
  }
 },
 "nbformat": 4,
 "nbformat_minor": 2
}
